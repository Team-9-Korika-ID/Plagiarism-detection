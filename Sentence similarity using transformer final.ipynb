{
 "cells": [
  {
   "cell_type": "markdown",
   "metadata": {},
   "source": [
    "## PDF To Plain Text"
   ]
  },
  {
   "cell_type": "code",
   "execution_count": 1,
   "metadata": {},
   "outputs": [
    {
     "name": "stdout",
     "output_type": "stream",
     "text": [
      "Alvin nova Rahmadana Diputra  \n",
      "33236000 25 / SDT A \n",
      " \n",
      "1. Apa itu paradigma pemrograman dan sebutkan beberapa contohnya?  \n",
      "   Jawaban: Paradigma pemrograman adalah cara pendekatan dalam \n",
      "menyelesaikan masalah pemrograman dengan menggunakan aturan dan konsep \n",
      "tertentu. Contoh paradigma pemrograman antara lain: pemrograman \n",
      "berorientasi objek (OOP), pemrograman prosedural, pemrogra man fungsional, \n",
      "dan pemrograman berbasis peristiwa (event -driven programming).  \n",
      " \n",
      "2. Apa perbedaan antara bahasa pemrograman kompilasi dan bahasa \n",
      "pemrograman interpretasi?  \n",
      "   Jawaban:  \n",
      " \n",
      "3. Jelaskan konsep modularitas dalam pemrograman dan mengapa itu \n",
      "penting?  \n",
      "   Jawaban:  \n",
      " \n",
      "4. Apa yang dimaksud dengan algoritma pencarian biner? Bagaimana cara \n",
      "kerjanya?  \n",
      "   Jawaban: Algoritma pencarian biner adalah algoritma yang digunakan untuk \n",
      "mencari suatu elemen dalam array terurut dengan cepat. Cara kerjanya adalah \n",
      "dengan membagi array menjadi dua bagian, kemudian membandingkan elemen \n",
      "tengah dengan elemen yang dicari.  Jika elemen tengah sama dengan elemen \n",
      "yang dicari, pencarian selesai. Jika tidak, pencarian dilanjutkan hanya pada \n",
      "setengah array yang sesuai dengan kondisi.  \n",
      " \n",
      "5. Apa perbedaan antara sintaksis dan semantik dalam konteks \n",
      "pemrograman?  \n",
      "   Jawaban: Sintaksis mengacu pada aturan tata bahasa atau struktur dari sebuah \n",
      "bahasa pemrograman, sementara semantik mengacu pada makna atau arti dari \n",
      "kode yang ditulis. Dalam hal ini, sintaksis berkaitan dengan apakah kode itu \n",
      "ditulis dengan benar secar a gramatikal, sedangkan semantik berkaitan dengan \n",
      "apakah kode itu melakukan apa yang dimaksudkan dengan benar.  \n"
     ]
    }
   ],
   "source": [
    "from PyPDF2 import PdfReader\n",
    "\n",
    "def convert_pdf_to_text(pdf_file_path):\n",
    "    \"\"\"\n",
    "    Convert PDF file to plain text.\n",
    "    \n",
    "    Args:\n",
    "    pdf_file_path (str): Path to the PDF file.\n",
    "    \n",
    "    Returns:\n",
    "    str: Plain text extracted from the PDF.\n",
    "    \"\"\"\n",
    "    pdf_reader = PdfReader(pdf_file_path)\n",
    "    text = \"\"\n",
    "    for page_num in range(len(pdf_reader.pages)):\n",
    "        page = pdf_reader.pages[page_num]\n",
    "        text += page.extract_text()\n",
    "    return text\n",
    "\n",
    "# Example usage\n",
    "pdf_file_path = \"Pdf/3323600054_Manusia berbatang.pdf\"  # Replace with the path to your PDF file\n",
    "text = convert_pdf_to_text(pdf_file_path)\n",
    "print(text)"
   ]
  },
  {
   "cell_type": "markdown",
   "metadata": {},
   "source": [
    "## Entity recognition"
   ]
  },
  {
   "cell_type": "code",
   "execution_count": 12,
   "metadata": {},
   "outputs": [
    {
     "name": "stdout",
     "output_type": "stream",
     "text": [
      "\n",
      "\u001b[38;5;1m✘ No compatible package found for 'id_core_web_lg' (spaCy v3.7.4)\u001b[0m\n",
      "\n"
     ]
    }
   ],
   "source": [
    "!python -m spacy download id_core_web_lg"
   ]
  },
  {
   "cell_type": "markdown",
   "metadata": {},
   "source": [
    "## Meringkas dokumen plain text (optional)"
   ]
  },
  {
   "cell_type": "code",
   "execution_count": null,
   "metadata": {},
   "outputs": [],
   "source": []
  }
 ],
 "metadata": {
  "kernelspec": {
   "display_name": "Python 3",
   "language": "python",
   "name": "python3"
  },
  "language_info": {
   "codemirror_mode": {
    "name": "ipython",
    "version": 3
   },
   "file_extension": ".py",
   "mimetype": "text/x-python",
   "name": "python",
   "nbconvert_exporter": "python",
   "pygments_lexer": "ipython3",
   "version": "3.10.7"
  }
 },
 "nbformat": 4,
 "nbformat_minor": 2
}
