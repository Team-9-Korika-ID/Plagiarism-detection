{
 "cells": [
  {
   "cell_type": "markdown",
   "metadata": {},
   "source": [
    "## Menggunakan basic NLP"
   ]
  },
  {
   "cell_type": "code",
   "execution_count": 1,
   "metadata": {},
   "outputs": [
    {
     "data": {
      "text/html": [
       "<div><div id=f716bbfc-ae3e-4c2f-a2a0-818daab77fb4 style=\"display:none; background-color:#9D6CFF; color:white; width:200px; height:30px; padding-left:5px; border-radius:4px; flex-direction:row; justify-content:space-around; align-items:center;\" onmouseover=\"this.style.backgroundColor='#BA9BF8'\" onmouseout=\"this.style.backgroundColor='#9D6CFF'\" onclick=\"window.commands?.execute('create-mitosheet-from-dataframe-output');\">See Full Dataframe in Mito</div> <script> if (window.commands?.hasCommand('create-mitosheet-from-dataframe-output')) document.getElementById('f716bbfc-ae3e-4c2f-a2a0-818daab77fb4').style.display = 'flex' </script> <table border=\"1\" class=\"dataframe\">\n",
       "  <thead>\n",
       "    <tr style=\"text-align: right;\">\n",
       "      <th>Nama</th>\n",
       "      <th>Andi</th>\n",
       "      <th>Budi</th>\n",
       "      <th>Anton</th>\n",
       "    </tr>\n",
       "    <tr>\n",
       "      <th>Nama</th>\n",
       "      <th></th>\n",
       "      <th></th>\n",
       "      <th></th>\n",
       "    </tr>\n",
       "  </thead>\n",
       "  <tbody>\n",
       "    <tr>\n",
       "      <th>Andi</th>\n",
       "      <td>1.000000</td>\n",
       "      <td>1.000000</td>\n",
       "      <td>0.444444</td>\n",
       "    </tr>\n",
       "    <tr>\n",
       "      <th>Budi</th>\n",
       "      <td>1.000000</td>\n",
       "      <td>1.000000</td>\n",
       "      <td>0.444444</td>\n",
       "    </tr>\n",
       "    <tr>\n",
       "      <th>Anton</th>\n",
       "      <td>0.444444</td>\n",
       "      <td>0.444444</td>\n",
       "      <td>1.000000</td>\n",
       "    </tr>\n",
       "  </tbody>\n",
       "</table></div>"
      ],
      "text/plain": [
       "Nama       Andi      Budi     Anton\n",
       "Nama                               \n",
       "Andi   1.000000  1.000000  0.444444\n",
       "Budi   1.000000  1.000000  0.444444\n",
       "Anton  0.444444  0.444444  1.000000"
      ]
     },
     "execution_count": 1,
     "metadata": {},
     "output_type": "execute_result"
    }
   ],
   "source": [
    "import pandas as pd\n",
    "from sklearn.feature_extraction.text import CountVectorizer\n",
    "from sklearn.metrics.pairwise import cosine_similarity\n",
    "from sklearn.preprocessing import normalize\n",
    "\n",
    "# Dataframe\n",
    "data_lite = {'Nama': ['Andi', 'Budi', 'Anton'],\n",
    "             'Jawaban': ['Revolusi Industri 4.0 merupakan periode transformasi industri yang ditandai oleh integrasi teknologi digital ke dalam proses produksi.',\n",
    "                         'Revolusi Industri 4.0 merupakan periode transformasi industri yang ditandai oleh integrasi teknologi digital ke dalam proses produksi.',\n",
    "                         'Revolusi Industri 4.0 merupakan upaya transformasi menuju perbaikan dengan mengintegrasikan dunia online dan lini produksi di industri']}\n",
    "df = pd.DataFrame(data_lite)\n",
    "\n",
    "# tf-idf\n",
    "tfidf_vectorizer = CountVectorizer()\n",
    "tfidf_matrix = tfidf_vectorizer.fit_transform(df['Jawaban'])\n",
    "tfidf_matrix_normalized = normalize(tfidf_matrix)\n",
    "\n",
    "# Similarity Matrix\n",
    "similarity_matrix = cosine_similarity(tfidf_matrix_normalized, tfidf_matrix_normalized)\n",
    "\n",
    "# Menampilkan hasil similarity\n",
    "hasil = pd.DataFrame(similarity_matrix, columns=df['Nama'], index=df['Nama'])\n",
    "\n",
    "# Penanda\n",
    "'''\n",
    "for index, row in hasil.iterrows():\n",
    "    for column in hasil.columns:\n",
    "        if index != column:\n",
    "            if row[column] >= 0.9:\n",
    "                hasil.at[index, column] = 'Mencontek'\n",
    "            elif row[column] <= 0.6:\n",
    "                hasil.at[index, column] = 'Original'\n",
    "'''\n",
    "hasil\n"
   ]
  },
  {
   "cell_type": "markdown",
   "metadata": {},
   "source": [
    "## Version 1.1 Menggunakan Transformer"
   ]
  },
  {
   "cell_type": "code",
   "execution_count": 2,
   "metadata": {},
   "outputs": [
    {
     "name": "stdout",
     "output_type": "stream",
     "text": [
      "Skor Kesamaan: 0.8118517994880676\n"
     ]
    }
   ],
   "source": [
    "from sentence_transformers import SentenceTransformer, util\n",
    "\n",
    "# Memuat model\n",
    "model = SentenceTransformer('all-MiniLM-L6-v2')\n",
    "\n",
    "# Mendefinisikan dua kalimat\n",
    "kalimat1 = \"Ini adalah contoh kalimat pertama.\"\n",
    "kalimat2 = \"Ini adalah contoh kalimat kedua.\"\n",
    "\n",
    "# Menghitung embeddings untuk kedua kalimat\n",
    "embeddings1 = model.encode(kalimat1, convert_to_tensor=True)\n",
    "embeddings2 = model.encode(kalimat2, convert_to_tensor=True)\n",
    "\n",
    "# Menghitung kesamaan kosinus antara dua embeddings\n",
    "kesamaan = util.pytorch_cos_sim(embeddings1, embeddings2)\n",
    "\n",
    "print(f\"Skor Kesamaan: {kesamaan.item()}\")"
   ]
  },
  {
   "cell_type": "code",
   "execution_count": 5,
   "metadata": {},
   "outputs": [
    {
     "name": "stdout",
     "output_type": "stream",
     "text": [
      "Skor Kesamaan antara kalimat 1 dan 2: 1.0000001192092896\n",
      "Skor Kesamaan antara kalimat 1 dan 3: 0.8827536702156067\n",
      "Skor Kesamaan antara kalimat 2 dan 3: 0.8827536702156067\n"
     ]
    }
   ],
   "source": [
    "import pandas as pd\n",
    "from sentence_transformers import SentenceTransformer, util\n",
    "\n",
    "# Memuat model\n",
    "model = SentenceTransformer('all-MiniLM-L6-v2')\n",
    "\n",
    "# Dataframe\n",
    "data_lite = {'Nama': ['Andi', 'Budi', 'Anton'],\n",
    "             'Jawaban': ['Revolusi Industri 4.0 merupakan periode transformasi industri yang ditandai oleh integrasi teknologi digital ke dalam proses produksi.',\n",
    "                         'Revolusi Industri 4.0 merupakan periode transformasi industri yang ditandai oleh integrasi teknologi digital ke dalam proses produksi.',\n",
    "                         'Revolusi Industri 4.0 merupakan upaya transformasi menuju perbaikan dengan mengintegrasikan dunia online dan lini produksi di industri']}\n",
    "df = pd.DataFrame(data_lite)\n",
    "\n",
    "# Mendefinisikan kalimat\n",
    "kalimat = df['Jawaban']\n",
    "\n",
    "# Menghitung embeddings untuk kalimat\n",
    "embeddings = model.encode(kalimat.tolist(), convert_to_tensor=True)\n",
    "\n",
    "# Menghitung kesamaan kosinus antara setiap pasangan kalimat\n",
    "for i in range(len(embeddings)):\n",
    "    for j in range(i + 1, len(embeddings)):\n",
    "        kesamaan = util.pytorch_cos_sim(embeddings[i], embeddings[j])\n",
    "        print(f\"Skor Kesamaan antara kalimat {i+1} dan {j+1}: {kesamaan.item()}\")\n"
   ]
  },
  {
   "cell_type": "code",
   "execution_count": 2,
   "metadata": {},
   "outputs": [
    {
     "data": {
      "text/html": [
       "<div><div id=0f480952-1caa-4235-bfb7-424ce9ec2ddc style=\"display:none; background-color:#9D6CFF; color:white; width:200px; height:30px; padding-left:5px; border-radius:4px; flex-direction:row; justify-content:space-around; align-items:center;\" onmouseover=\"this.style.backgroundColor='#BA9BF8'\" onmouseout=\"this.style.backgroundColor='#9D6CFF'\" onclick=\"window.commands?.execute('create-mitosheet-from-dataframe-output');\">See Full Dataframe in Mito</div> <script> if (window.commands?.hasCommand('create-mitosheet-from-dataframe-output')) document.getElementById('0f480952-1caa-4235-bfb7-424ce9ec2ddc').style.display = 'flex' </script> <table border=\"1\" class=\"dataframe\">\n",
       "  <thead>\n",
       "    <tr style=\"text-align: right;\">\n",
       "      <th>Nama</th>\n",
       "      <th>Andi</th>\n",
       "      <th>Budi</th>\n",
       "      <th>Anton</th>\n",
       "    </tr>\n",
       "    <tr>\n",
       "      <th>Nama</th>\n",
       "      <th></th>\n",
       "      <th></th>\n",
       "      <th></th>\n",
       "    </tr>\n",
       "  </thead>\n",
       "  <tbody>\n",
       "    <tr>\n",
       "      <th>Andi</th>\n",
       "      <td>0.000000</td>\n",
       "      <td>1.000000</td>\n",
       "      <td>0.882754</td>\n",
       "    </tr>\n",
       "    <tr>\n",
       "      <th>Budi</th>\n",
       "      <td>1.000000</td>\n",
       "      <td>0.000000</td>\n",
       "      <td>0.882754</td>\n",
       "    </tr>\n",
       "    <tr>\n",
       "      <th>Anton</th>\n",
       "      <td>0.882754</td>\n",
       "      <td>0.882754</td>\n",
       "      <td>0.000000</td>\n",
       "    </tr>\n",
       "  </tbody>\n",
       "</table></div>"
      ],
      "text/plain": [
       "Nama       Andi      Budi     Anton\n",
       "Nama                               \n",
       "Andi   0.000000  1.000000  0.882754\n",
       "Budi   1.000000  0.000000  0.882754\n",
       "Anton  0.882754  0.882754  0.000000"
      ]
     },
     "execution_count": 2,
     "metadata": {},
     "output_type": "execute_result"
    }
   ],
   "source": [
    "import pandas as pd\n",
    "import numpy as np\n",
    "from sentence_transformers import SentenceTransformer, util\n",
    "\n",
    "# Memuat model\n",
    "model = SentenceTransformer('all-MiniLM-L6-v2')\n",
    "\n",
    "# Dataframe\n",
    "data_lite = {'Nama': ['Andi', 'Budi', 'Anton'],\n",
    "             'Jawaban': ['Revolusi Industri 4.0 merupakan periode transformasi industri yang ditandai oleh integrasi teknologi digital ke dalam proses produksi.',\n",
    "                         'Revolusi Industri 4.0 merupakan periode transformasi industri yang ditandai oleh integrasi teknologi digital ke dalam proses produksi.',\n",
    "                         'Revolusi Industri 4.0 merupakan upaya transformasi menuju perbaikan dengan mengintegrasikan dunia online dan lini produksi di industri']}\n",
    "df = pd.DataFrame(data_lite)\n",
    "kalimat = df['Jawaban']\n",
    "\n",
    "# Calculate embeddings\n",
    "embeddings = model.encode(kalimat.tolist(), convert_to_tensor=True)\n",
    "\n",
    "# Iniciate matriks similarity\n",
    "num_sentences = len(kalimat)\n",
    "similarity_matrix = np.zeros((num_sentences, num_sentences))\n",
    "\n",
    "# Fill matriks similarity\n",
    "for i in range(num_sentences):\n",
    "    for j in range(i + 1, num_sentences):\n",
    "        similarity_matrix[i][j] = util.pytorch_cos_sim(embeddings[i], embeddings[j])\n",
    "\n",
    "# Fill matriks...\n",
    "for i in range(num_sentences):\n",
    "    for j in range(0, i):\n",
    "        similarity_matrix[i][j] = similarity_matrix[j][i]\n",
    "\n",
    "similarity_df = pd.DataFrame(similarity_matrix, columns=df['Nama'], index=df['Nama'])\n",
    "similarity_df"
   ]
  },
  {
   "cell_type": "code",
   "execution_count": 6,
   "metadata": {},
   "outputs": [
    {
     "data": {
      "text/plain": [
       "<AxesSubplot: xlabel='Nama', ylabel='Nama'>"
      ]
     },
     "execution_count": 6,
     "metadata": {},
     "output_type": "execute_result"
    },
    {
     "data": {
      "image/png": "[encoded data removed]",
      "text/plain": [
       "<Figure size 640x480 with 2 Axes>"
      ]
     },
     "metadata": {},
     "output_type": "display_data"
    }
   ],
   "source": [
    "import seaborn as sns\n",
    "sns.heatmap(similarity_df, mask=np.zeros_like(similarity_df),\n",
    "            cmap=sns.diverging_palette(220, 10, as_cmap=True),\n",
    "            square=True, annot=True)"
   ]
  },
  {
   "cell_type": "markdown",
   "metadata": {},
   "source": [
    "## Version 1.12 Menggunakan Transformer Versi 2"
   ]
  },
  {
   "cell_type": "code",
   "execution_count": null,
   "metadata": {},
   "outputs": [],
   "source": [
    "data_lite = {'Nama': ['Andi', 'Budi', 'Anton'],\n",
    "             'Jawaban': ['Revolusi Industri 4.0 merupakan periode transformasi industri yang ditandai oleh integrasi teknologi digital ke dalam proses produksi.',\n",
    "                         'Revolusi Industri 4.0 merupakan periode transformasi industri yang ditandai oleh integrasi teknologi digital ke dalam proses produksi.',\n",
    "                         'Revolusi Industri 4.0 merupakan upaya transformasi menuju perbaikan dengan mengintegrasikan dunia online dan lini produksi di industri']}\n",
    "df = pd.DataFrame(data_lite)\n",
    "kalimat = df['Jawaban']"
   ]
  },
  {
   "cell_type": "markdown",
   "metadata": {},
   "source": [
    "## Version 1.2 Penyesuaian workflow"
   ]
  },
  {
   "cell_type": "code",
   "execution_count": null,
   "metadata": {},
   "outputs": [],
   "source": [
    "def process_document(text):\n",
    "  \"\"\"\n",
    "  Create a vector for given text and adjust it for cosine similarity search\n",
    "  \"\"\"\n",
    "  text_vect = create_vector_from_text(tokenizer, model, text)\n",
    "  text_vect = np.array(text_vect)\n",
    "  text_vect = text_vect.reshape(1, -1)\n",
    "  return text_vect\n",
    "\n",
    "def is_plagiarism(similarity_score, plagiarism_threshold):\n",
    "  is_plagiarism = False\n",
    "  if(similarity_score >= plagiarism_threshold):\n",
    "      is_plagiarism = True\n",
    "  return is_plagiarism\n",
    "\n",
    "def check_incoming_document(incoming_document):\n",
    "  text_lang = detect(incoming_document)\n",
    "  language_list = ['de', 'fr', 'el', 'ja', 'ru']\n",
    "  final_result = \"\"\n",
    "  if(text_lang == 'en'):\n",
    "    final_result = incoming_document\n",
    "  elif(text_lang not in language_list):\n",
    "    final_result = None\n",
    "  else:\n",
    "    # Translate in English\n",
    "    final_result = translate_text(incoming_document, text_lang)\n",
    "  return final_result\n",
    " \n",
    "def run_plagiarism_analysis(query_text, data, plagiarism_threshold=0.8):\n",
    "  top_N=3\n",
    "  # Check the language of the query/incoming text and translate if required.\n",
    "  document_translation = check_incoming_document(query_text)\n",
    "  if(document_translation is None):\n",
    "    print(\"Only the following languages are supported: English, French, Russian, German, Greek and Japanese\")\n",
    "    exit(-1)\n",
    "  else:\n",
    "    # Preprocess the document to get the required vector for similarity analysis\n",
    "    query_vect = process_document(document_translation)\n",
    "\n",
    "    # Run similarity Search\n",
    "    data[\"similarity\"] = data[\"vectors\"].apply(lambda x:\n",
    "                                            cosine_similarity(query_vect, x))\n",
    "    data[\"similarity\"] = data[\"similarity\"].apply(lambda x: x[0][0])\n",
    "    similar_articles = data.sort_values(by='similarity',\n",
    "                                        ascending=False)[1:top_N+1]\n",
    "    formated_result = similar_articles[[\"abstract\", \"paper_id\",\n",
    "                                        \"similarity\"]].reset_index(drop = True)\n",
    "    similarity_score = formated_result.iloc[0][\"similarity\"]\n",
    "    most_similar_article = formated_result.iloc[0][\"abstract\"]\n",
    "    is_plagiarism_bool = is_plagiarism(similarity_score, plagiarism_threshold)\n",
    "    plagiarism_decision = {'similarity_score': similarity_score,\n",
    "                          'is_plagiarism': is_plagiarism_bool,\n",
    "                          'most_similar_article': most_similar_article,\n",
    "                          'article_submitted': query_text\n",
    "                          }\n",
    "    return plagiarism_decision"
   ]
  },
  {
   "cell_type": "code",
   "execution_count": 11,
   "metadata": {},
   "outputs": [
    {
     "data": {
      "text/html": [
       "<div><div id=829cffeb-c2c9-4d9c-b20f-9b9134d48dec style=\"display:none; background-color:#9D6CFF; color:white; width:200px; height:30px; padding-left:5px; border-radius:4px; flex-direction:row; justify-content:space-around; align-items:center;\" onmouseover=\"this.style.backgroundColor='#BA9BF8'\" onmouseout=\"this.style.backgroundColor='#9D6CFF'\" onclick=\"window.commands?.execute('create-mitosheet-from-dataframe-output');\">See Full Dataframe in Mito</div> <script> if (window.commands?.hasCommand('create-mitosheet-from-dataframe-output')) document.getElementById('829cffeb-c2c9-4d9c-b20f-9b9134d48dec').style.display = 'flex' </script> <table border=\"1\" class=\"dataframe\">\n",
       "  <thead>\n",
       "    <tr style=\"text-align: right;\">\n",
       "      <th></th>\n",
       "      <th>abstract</th>\n",
       "    </tr>\n",
       "  </thead>\n",
       "  <tbody>\n",
       "    <tr>\n",
       "      <th>629414</th>\n",
       "      <td>The incidence of cardiovascular diseases and cardiovascular burden (the number of deaths) are continuously rising worldwide. Heart disease leads to heart failure (HF) in affected patients. Therefore any additional aid to current medical support systems is crucial for the clinician to forecast the survival status for these patients. The collaborative use of machine learning and IoT devices has become very important in today’s intelligent healthcare systems. This paper presents a Public Key Infrastructure (PKI) secured IoT enabled framework entitled Cardiac Diagnostic Feature and Demographic Identification (CDF-DI) systems with significant Models that recognize several Cardiac disease features related to HF. To achieve this goal, we used statistical and machine learning techniques to analyze the Cardiac secondary dataset. The Elevated Serum Creatinine (SC) levels and Serum Sodium (SS) could cause renal problems and are well established in HF patients. The Mann Whitney U test found that SC and SS levels affected the survival status of patients (p &lt; 0.05). Anemia, diabetes, and BP features had no significant impact on the SS and SC level in the patient (p &gt; 0.05). The Cox regression model also found a significant association of age group with the survival status using follow-up months. Furthermore, the present study also proposed important features of Cardiac disease that identified the patient’s survival status, age group, and gender. The most prominent algorithm was the Random Forest (RF) suggesting five key features to determine the survival status of the patient with an accuracy of 96%: Follow-up months, SC, Ejection Fraction (EF), Creatinine Phosphokinase (CPK), and platelets. Additionally, the RF selected five prominent features (smoking habits, CPK, platelets, follow-up month, and SC) in recognition of gender with an accuracy of 94%. Moreover, the five vital features such as CPK, SC, follow-up month, platelets, and EF were found to be significant predictors for the patient’s age group with an accuracy of 96%. The Kaplan Meier plot revealed that mortality was high in the extremely old age group ([Formula: see text] (1) = 8.565). The recommended features have possible effects on clinical practice and would be supportive aid to the existing medical support system to identify the possibility of the survival status of the heart patient. The doctor should primarily concentrate on the follow-up month, SC, EF, CPK, and platelet count for the patient’s survival in the situation.</td>\n",
       "    </tr>\n",
       "    <tr>\n",
       "      <th>123157</th>\n",
       "      <td>BACKGROUND Sub-Saharan Africa (SSA) experiences disproportionate burden of cervical cancer incidence and mortality due in part to low uptake of cervical screening, a strategy for prevention and down-staging of cervical cancer. This scoping review identifies studies of interventions to increase uptake of cervical screening among women in the region and uses the Integrated Behavioral Model (IBM) to describe how interventions might work. METHODS A systematic search of literature was conducted in PubMed, Web of Science, Embase, and CINAHL databases through May 2019. Screening and data charting were performed by two independent reviewers. Intervention studies measuring changes to uptake in screening among women in SSA were included, with no restriction to intervention type, study setting or date, or participant characteristics. Intervention type and implementation strategies were described using behavioral constructs from the IBM. RESULTS Of the 3704 citations the search produced, 19 studies were selected for inclusion. Most studies were published between 2014 and 2019 (78.9%) and were set in Nigeria (47.4%) and South Africa (26.3%). Studies most often assessed screening with Pap smears (31.6%) and measured uptake as ever screened (42.1%) or screened during the study period (36.8%). Education-based interventions were most common (57.9%) and the IBM construct of knowledge/skills to perform screening was targeted most frequently (68.4%). Willingness to screen was high, before and after intervention. Screening coverage ranged from 1.7 to 99.2% post-intervention, with six studies (31.6%) reporting a significant improvement in screening that achieved ≥60% coverage. CONCLUSIONS Educational interventions were largely ineffective, except those that utilized peer or community health educators and mHealth implementation strategies. Two economic incentivization interventions were moderately effective, by acting on participants' instrumental attitudes, but resulted in screening coverage less than 20%. Innovative service delivery, including community-based self-sampling, acted on environmental constraints, striving to make services more available, accessible, and appropriate to women, and were the most effective. This review demonstrates that intent to perform screening may not be the major determinant of screening behavior, suggesting other theoretical frameworks may be needed to more fully understand uptake of cervical screening in sub-Saharan Africa, particularly for health systems change interventions.</td>\n",
       "    </tr>\n",
       "    <tr>\n",
       "      <th>109077</th>\n",
       "      <td>OBJECTIVE We explore the impact of discharge disposition (independent rehabilitation facility (IRF) vs skilled nursing facility (SNF)) on 90 day outcomes in persons with stroke who received acute endovascular treatment. METHODS Using a database from a single primary care stroke center, discharge disposition, National Institutes of Health Stroke Scale (NIHSS), Totaled Health Risks in Vascular Events (THRIVE), Houston Intra-Arterial Therapy 2 (HIAT-2), and Acute Physiology and Chronic Health Evaluation (APACHE II) scores, and successful reperfusion were obtained. Univariate analysis was performed to assess predictors of good clinical outcome, as defined by 90 day modified Rankin Scale (mRS) scores ≤2. A binary logistic regression model was used to determine the impact of placement to an IRF versus an SNF on clinical outcomes. RESULTS 147 subjects were included in the analysis with a mean age of 63±14 years and median NIHSS of 18 (IQR 14-21). Final infarct volumes, and modified APACHE II, THRIVE, and HIAT-2 scores were similar between those discharged to an IRF and those discharged to an SNF.However, their 90 day outcomes were significantly different, with far fewer patients at SNFs achieving good clinical outcomes (25% vs 46%; p=0.023). Disposition to SNF was significantly associated with a lower probability of achieving an mRS score of 0-2 at 90 days (OR = 0.337 (95% CI 0.12 to 0.94); p&lt;0.04). CONCLUSIONS Subjects discharged to SNFs and IRFs after thrombectomy have similar medical and neurological severity at admission and similar final infarct volumes at discharge. Despite these similarities, patients discharged to an SNF had a significantly lower probability of achieving a good neurological outcome. These results have implications for future acute stroke trial design.</td>\n",
       "    </tr>\n",
       "    <tr>\n",
       "      <th>112381</th>\n",
       "      <td>In nuclear medicine, the term theranostics describes the combination of therapy and diagnostic imaging. In practice, this concept dates back more than 50 years; however, among the most successful examples of theranostics are peptide receptor scintigraphy and peptide receptor radionuclide therapy of neuroendocrine tumors. The development of these modalities through the radiolabeling of somatostatin analogs with various radionuclides has led to a revolution in patient management and established a foundation for expansion of the theranostic principle into other oncology indications. This article provides a review of the evolution and development of the theranostic radionuclide approach to the management of neuroendocrine tumors, as described by the inventor of this technique, Eric P. Krenning, in an interview with Rachel Levine.</td>\n",
       "    </tr>\n",
       "    <tr>\n",
       "      <th>593753</th>\n",
       "      <td>The outbreak of the coronavirus disease (COVID-19) occurred in Wuhan, China, in December 2019. As of 21 March 2020, this epidemic has spread to 179 countries with more than 200 000 confirmed cases and 8578 deaths. The outbreak has put enormous pressure on the medical establishment and even led to exhaustion of medical resources in the most affected areas. Other medical work has been significantly affected in the context of COVID-19 epidemic. In order to reduce or avoid cross-infection with COVID-19, many hospitals have taken measures to limit the number of outpatient visits and inpatients. For example, emergency surgery can only be guaranteed, and most other surgeries can be postponed. Patients with cancer are one of the groups most affected by the epidemic because of their systematic immunosuppressive state and requirement of frequent admission to hospital. Consequently, specific adjustments for their treatment need to be made to cope with this situation. Therefore, it is of significance to summarize the relevant experience of China in the prevention and control of COVID-19 infection and treatment of patients with cancer during the epidemic.</td>\n",
       "    </tr>\n",
       "  </tbody>\n",
       "</table></div>"
      ],
      "text/plain": [
       "                                                 abstract\n",
       "629414  The incidence of cardiovascular diseases and c...\n",
       "123157  BACKGROUND Sub-Saharan Africa (SSA) experience...\n",
       "109077  OBJECTIVE We explore the impact of discharge d...\n",
       "112381  In nuclear medicine, the term theranostics des...\n",
       "593753  The outbreak of the coronavirus disease (COVID..."
      ]
     },
     "execution_count": 11,
     "metadata": {},
     "output_type": "execute_result"
    }
   ],
   "source": [
    "import pandas as pd\n",
    " \n",
    "def preprocess_data(data_path, sample_size):\n",
    "  data = pd.read_csv(data_path, low_memory=False)\n",
    "  data = data.dropna(subset = ['abstract']).reset_index(drop = True)\n",
    "  data = data.sample(sample_size)[['abstract']]\n",
    "  return data\n",
    " \n",
    "# Read data & preprocess it\n",
    "data_path = \"metadata.csv\"\n",
    "a = preprocess_data(data_path, 5)\n",
    "a"
   ]
  },
  {
   "cell_type": "code",
   "execution_count": 13,
   "metadata": {},
   "outputs": [
    {
     "name": "stderr",
     "output_type": "stream",
     "text": [
      "C:\\Users\\M S I\\AppData\\Local\\Temp\\ipykernel_16072\\1515843945.py:9: FutureWarning: The frame.append method is deprecated and will be removed from pandas in a future version. Use pandas.concat instead.\n",
      "  a = a.append(pd.DataFrame(new_data), ignore_index=True)\n"
     ]
    },
    {
     "data": {
      "text/html": [
       "<div><div id=b4ab560b-ecd7-4b86-9540-3659d4fd0891 style=\"display:none; background-color:#9D6CFF; color:white; width:200px; height:30px; padding-left:5px; border-radius:4px; flex-direction:row; justify-content:space-around; align-items:center;\" onmouseover=\"this.style.backgroundColor='#BA9BF8'\" onmouseout=\"this.style.backgroundColor='#9D6CFF'\" onclick=\"window.commands?.execute('create-mitosheet-from-dataframe-output');\">See Full Dataframe in Mito</div> <script> if (window.commands?.hasCommand('create-mitosheet-from-dataframe-output')) document.getElementById('b4ab560b-ecd7-4b86-9540-3659d4fd0891').style.display = 'flex' </script> <table border=\"1\" class=\"dataframe\">\n",
       "  <thead>\n",
       "    <tr style=\"text-align: right;\">\n",
       "      <th></th>\n",
       "      <th>abstract</th>\n",
       "      <th>Nama</th>\n",
       "      <th>Jawaban</th>\n",
       "    </tr>\n",
       "  </thead>\n",
       "  <tbody>\n",
       "    <tr>\n",
       "      <th>0</th>\n",
       "      <td>The incidence of cardiovascular diseases and cardiovascular burden (the number of deaths) are continuously rising worldwide. Heart disease leads to heart failure (HF) in affected patients. Therefore any additional aid to current medical support systems is crucial for the clinician to forecast the survival status for these patients. The collaborative use of machine learning and IoT devices has become very important in today’s intelligent healthcare systems. This paper presents a Public Key Infrastructure (PKI) secured IoT enabled framework entitled Cardiac Diagnostic Feature and Demographic Identification (CDF-DI) systems with significant Models that recognize several Cardiac disease features related to HF. To achieve this goal, we used statistical and machine learning techniques to analyze the Cardiac secondary dataset. The Elevated Serum Creatinine (SC) levels and Serum Sodium (SS) could cause renal problems and are well established in HF patients. The Mann Whitney U test found that SC and SS levels affected the survival status of patients (p &lt; 0.05). Anemia, diabetes, and BP features had no significant impact on the SS and SC level in the patient (p &gt; 0.05). The Cox regression model also found a significant association of age group with the survival status using follow-up months. Furthermore, the present study also proposed important features of Cardiac disease that identified the patient’s survival status, age group, and gender. The most prominent algorithm was the Random Forest (RF) suggesting five key features to determine the survival status of the patient with an accuracy of 96%: Follow-up months, SC, Ejection Fraction (EF), Creatinine Phosphokinase (CPK), and platelets. Additionally, the RF selected five prominent features (smoking habits, CPK, platelets, follow-up month, and SC) in recognition of gender with an accuracy of 94%. Moreover, the five vital features such as CPK, SC, follow-up month, platelets, and EF were found to be significant predictors for the patient’s age group with an accuracy of 96%. The Kaplan Meier plot revealed that mortality was high in the extremely old age group ([Formula: see text] (1) = 8.565). The recommended features have possible effects on clinical practice and would be supportive aid to the existing medical support system to identify the possibility of the survival status of the heart patient. The doctor should primarily concentrate on the follow-up month, SC, EF, CPK, and platelet count for the patient’s survival in the situation.</td>\n",
       "      <td>NaN</td>\n",
       "      <td>NaN</td>\n",
       "    </tr>\n",
       "    <tr>\n",
       "      <th>1</th>\n",
       "      <td>BACKGROUND Sub-Saharan Africa (SSA) experiences disproportionate burden of cervical cancer incidence and mortality due in part to low uptake of cervical screening, a strategy for prevention and down-staging of cervical cancer. This scoping review identifies studies of interventions to increase uptake of cervical screening among women in the region and uses the Integrated Behavioral Model (IBM) to describe how interventions might work. METHODS A systematic search of literature was conducted in PubMed, Web of Science, Embase, and CINAHL databases through May 2019. Screening and data charting were performed by two independent reviewers. Intervention studies measuring changes to uptake in screening among women in SSA were included, with no restriction to intervention type, study setting or date, or participant characteristics. Intervention type and implementation strategies were described using behavioral constructs from the IBM. RESULTS Of the 3704 citations the search produced, 19 studies were selected for inclusion. Most studies were published between 2014 and 2019 (78.9%) and were set in Nigeria (47.4%) and South Africa (26.3%). Studies most often assessed screening with Pap smears (31.6%) and measured uptake as ever screened (42.1%) or screened during the study period (36.8%). Education-based interventions were most common (57.9%) and the IBM construct of knowledge/skills to perform screening was targeted most frequently (68.4%). Willingness to screen was high, before and after intervention. Screening coverage ranged from 1.7 to 99.2% post-intervention, with six studies (31.6%) reporting a significant improvement in screening that achieved ≥60% coverage. CONCLUSIONS Educational interventions were largely ineffective, except those that utilized peer or community health educators and mHealth implementation strategies. Two economic incentivization interventions were moderately effective, by acting on participants' instrumental attitudes, but resulted in screening coverage less than 20%. Innovative service delivery, including community-based self-sampling, acted on environmental constraints, striving to make services more available, accessible, and appropriate to women, and were the most effective. This review demonstrates that intent to perform screening may not be the major determinant of screening behavior, suggesting other theoretical frameworks may be needed to more fully understand uptake of cervical screening in sub-Saharan Africa, particularly for health systems change interventions.</td>\n",
       "      <td>NaN</td>\n",
       "      <td>NaN</td>\n",
       "    </tr>\n",
       "    <tr>\n",
       "      <th>2</th>\n",
       "      <td>OBJECTIVE We explore the impact of discharge disposition (independent rehabilitation facility (IRF) vs skilled nursing facility (SNF)) on 90 day outcomes in persons with stroke who received acute endovascular treatment. METHODS Using a database from a single primary care stroke center, discharge disposition, National Institutes of Health Stroke Scale (NIHSS), Totaled Health Risks in Vascular Events (THRIVE), Houston Intra-Arterial Therapy 2 (HIAT-2), and Acute Physiology and Chronic Health Evaluation (APACHE II) scores, and successful reperfusion were obtained. Univariate analysis was performed to assess predictors of good clinical outcome, as defined by 90 day modified Rankin Scale (mRS) scores ≤2. A binary logistic regression model was used to determine the impact of placement to an IRF versus an SNF on clinical outcomes. RESULTS 147 subjects were included in the analysis with a mean age of 63±14 years and median NIHSS of 18 (IQR 14-21). Final infarct volumes, and modified APACHE II, THRIVE, and HIAT-2 scores were similar between those discharged to an IRF and those discharged to an SNF.However, their 90 day outcomes were significantly different, with far fewer patients at SNFs achieving good clinical outcomes (25% vs 46%; p=0.023). Disposition to SNF was significantly associated with a lower probability of achieving an mRS score of 0-2 at 90 days (OR = 0.337 (95% CI 0.12 to 0.94); p&lt;0.04). CONCLUSIONS Subjects discharged to SNFs and IRFs after thrombectomy have similar medical and neurological severity at admission and similar final infarct volumes at discharge. Despite these similarities, patients discharged to an SNF had a significantly lower probability of achieving a good neurological outcome. These results have implications for future acute stroke trial design.</td>\n",
       "      <td>NaN</td>\n",
       "      <td>NaN</td>\n",
       "    </tr>\n",
       "    <tr>\n",
       "      <th>3</th>\n",
       "      <td>In nuclear medicine, the term theranostics describes the combination of therapy and diagnostic imaging. In practice, this concept dates back more than 50 years; however, among the most successful examples of theranostics are peptide receptor scintigraphy and peptide receptor radionuclide therapy of neuroendocrine tumors. The development of these modalities through the radiolabeling of somatostatin analogs with various radionuclides has led to a revolution in patient management and established a foundation for expansion of the theranostic principle into other oncology indications. This article provides a review of the evolution and development of the theranostic radionuclide approach to the management of neuroendocrine tumors, as described by the inventor of this technique, Eric P. Krenning, in an interview with Rachel Levine.</td>\n",
       "      <td>NaN</td>\n",
       "      <td>NaN</td>\n",
       "    </tr>\n",
       "    <tr>\n",
       "      <th>4</th>\n",
       "      <td>The outbreak of the coronavirus disease (COVID-19) occurred in Wuhan, China, in December 2019. As of 21 March 2020, this epidemic has spread to 179 countries with more than 200 000 confirmed cases and 8578 deaths. The outbreak has put enormous pressure on the medical establishment and even led to exhaustion of medical resources in the most affected areas. Other medical work has been significantly affected in the context of COVID-19 epidemic. In order to reduce or avoid cross-infection with COVID-19, many hospitals have taken measures to limit the number of outpatient visits and inpatients. For example, emergency surgery can only be guaranteed, and most other surgeries can be postponed. Patients with cancer are one of the groups most affected by the epidemic because of their systematic immunosuppressive state and requirement of frequent admission to hospital. Consequently, specific adjustments for their treatment need to be made to cope with this situation. Therefore, it is of significance to summarize the relevant experience of China in the prevention and control of COVID-19 infection and treatment of patients with cancer during the epidemic.</td>\n",
       "      <td>NaN</td>\n",
       "      <td>NaN</td>\n",
       "    </tr>\n",
       "    <tr>\n",
       "      <th>5</th>\n",
       "      <td>NaN</td>\n",
       "      <td>Unknown</td>\n",
       "      <td>Les Réseaux d'Innovation et de Transfert Agricole (RITA) ont été créés en 2011 pour mieux connecter la recherche et le développement agricole, intra et inter-DOM, avec un objectif d'accompagnement de la diversification des productions locales. Le CGAAER a été chargé d'analyser ce dispositif et de proposer des pistes d'action pour améliorer la chaine Recherche – Formation – Innovation – Développement – Transfert dans les outre-mer dans un contexte d'agriculture durable, au profit de l'accroissement de l'autonomie alimentaire.</td>\n",
       "    </tr>\n",
       "  </tbody>\n",
       "</table></div>"
      ],
      "text/plain": [
       "                                            abstract     Nama  \\\n",
       "0  The incidence of cardiovascular diseases and c...      NaN   \n",
       "1  BACKGROUND Sub-Saharan Africa (SSA) experience...      NaN   \n",
       "2  OBJECTIVE We explore the impact of discharge d...      NaN   \n",
       "3  In nuclear medicine, the term theranostics des...      NaN   \n",
       "4  The outbreak of the coronavirus disease (COVID...      NaN   \n",
       "5                                                NaN  Unknown   \n",
       "\n",
       "                                             Jawaban  \n",
       "0                                                NaN  \n",
       "1                                                NaN  \n",
       "2                                                NaN  \n",
       "3                                                NaN  \n",
       "4                                                NaN  \n",
       "5  Les Réseaux d'Innovation et de Transfert Agric...  "
      ]
     },
     "execution_count": 13,
     "metadata": {},
     "output_type": "execute_result"
    }
   ],
   "source": [
    "# Tambahkan data baru\n",
    "french_article_to_check = \"\"\"Les Réseaux d'Innovation et de Transfert Agricole (RITA) ont été créés en 2011 pour mieux connecter la recherche et le développement agricole, intra et inter-DOM, avec un objectif d'accompagnement de la diversification des productions locales. Le CGAAER a été chargé d'analyser ce dispositif et de proposer des pistes d'action pour améliorer la chaine Recherche – Formation – Innovation – Développement – Transfert dans les outre-mer dans un contexte d'agriculture durable, au profit de l'accroissement de l'autonomie alimentaire.\"\"\"\n",
    "\n",
    "new_data = {\n",
    "    'Nama': ['Unknown'],\n",
    "    'Jawaban': [french_article_to_check]\n",
    "}\n",
    "\n",
    "a = a.append(pd.DataFrame(new_data), ignore_index=True)\n",
    "a\n"
   ]
  },
  {
   "cell_type": "code",
   "execution_count": null,
   "metadata": {},
   "outputs": [],
   "source": [
    "# Mendefinisikan kalimat\n",
    "a = df['abstract']\n",
    "\n",
    "# Menghitung embeddings untuk kalimat\n",
    "embeddings = model.encode(kalimat.tolist(), convert_to_tensor=True)\n",
    "\n",
    "# Menghitung kesamaan kosinus antara setiap pasangan kalimat\n",
    "for i in range(len(embeddings)):\n",
    "    for j in range(i + 1, len(embeddings)):\n",
    "        kesamaan = util.pytorch_cos_sim(embeddings[i], embeddings[j])\n",
    "        print(f\"Skor Kesamaan antara kalimat {i+1} dan {j+1}: {kesamaan.item()}\")"
   ]
  },
  {
   "cell_type": "markdown",
   "metadata": {},
   "source": [
    "## Version 1.3 Final"
   ]
  },
  {
   "cell_type": "code",
   "execution_count": 5,
   "metadata": {},
   "outputs": [
    {
     "name": "stdout",
     "output_type": "stream",
     "text": [
      "<function extract_text_from_pdf at 0x000001F939FE5300>\n"
     ]
    }
   ],
   "source": [
    "import os\n",
    "import warnings\n",
    "from pathlib import Path\n",
    "\n",
    "from PyPDF2 import PdfReader\n",
    "\n",
    "def extract_text_from_pdf(pdf_path):\n",
    "    documents = []\n",
    "    folder_prefix = \"Pdf/\"\n",
    "\n",
    "    for file in os.listdir(folder_prefix):\n",
    "        if file.endswith(\".pdf\"):\n",
    "            try:\n",
    "                pdf_path = folder_prefix + file\n",
    "                pdf_reader = PdfReader(pdf_path)\n",
    "                num_pages = len(pdf_reader.pages)\n",
    "                for page in range(num_pages):\n",
    "                    page_content = pdf_reader.pages[page].extract_text()\n",
    "                    documents.append(page_content)\n",
    "            except:\n",
    "                warnings.warn(f\"Error reading {pdf_path}\")\n",
    "                continue\n",
    "\n",
    "    if not documents:\n",
    "        raise ValueError(\"No valid PDF documents found.\")\n",
    "    \n",
    "    text_splitter = RecursiveCharacterTextSplitter(chunk_size=10000, chunk_overlap=0)\n",
    "    context = \"\\n\\n\".join(str(page_content) for page_content in documents)\n",
    "    texts = text_splitter.split_text(context)\n",
    "\n",
    "    embeddings = OpenAIEmbeddings()\n",
    "\n",
    "    vector_index = Chroma.from_texts(texts, embeddings).as_retriever()\n",
    "\n",
    "    return vector_index\n",
    "\n",
    "print(extract_text_from_pdf)"
   ]
  }
 ],
 "metadata": {
  "kernelspec": {
   "display_name": "Python 3",
   "language": "python",
   "name": "python3"
  },
  "language_info": {
   "codemirror_mode": {
    "name": "ipython",
    "version": 3
   },
   "file_extension": ".py",
   "mimetype": "text/x-python",
   "name": "python",
   "nbconvert_exporter": "python",
   "pygments_lexer": "ipython3",
   "version": "3.10.7"
  }
 },
 "nbformat": 4,
 "nbformat_minor": 2
}
